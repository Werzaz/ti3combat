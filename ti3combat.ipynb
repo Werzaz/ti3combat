{
 "metadata": {
  "name": ""
 },
 "nbformat": 3,
 "nbformat_minor": 0,
 "worksheets": [
  {
   "cells": [
    {
     "cell_type": "code",
     "collapsed": false,
     "input": [
      "from ti3combat import Battle, PrepareForces, EasyOutcomes"
     ],
     "language": "python",
     "metadata": {},
     "outputs": [],
     "prompt_number": 9
    },
    {
     "cell_type": "markdown",
     "metadata": {},
     "source": [
      "For calculating the probabilities, first construct a Forces dictionary. The easiest way is using PrepareForces, e.g.:"
     ]
    },
    {
     "cell_type": "code",
     "collapsed": false,
     "input": [
      "Forces = PrepareForces({'WS':1},{'CV':1,'FT':3})"
     ],
     "language": "python",
     "metadata": {},
     "outputs": [],
     "prompt_number": 2
    },
    {
     "cell_type": "markdown",
     "metadata": {},
     "source": [
      "Manually this would be:"
     ]
    },
    {
     "cell_type": "code",
     "collapsed": false,
     "input": [
      "Forces={'Space':True}\n",
      "Forces['Attacker']={'Units':{}, 'Tech':[], 'DmgOrder':['WS1','WS1'],'RepairOrder':[],'Rerolls':0}\n",
      "Forces['Defender']={'Units':{}, 'Tech':[], 'DmgOrder':['FT3','FT2','FT1','CV1'],'RepairOrder':[],'Rerolls':0}\n",
      "Forces['Attacker']['Units']['WS1']={'Type':'WS', 'Roll':3, 'Dice':3, 'HP':2, 'MaxHP':2, 'Cost':12., 'Evasion':0}\n",
      "Forces['Defender']['Units']['CV1']={'Type':'CV', 'Roll':9, 'Dice':1, 'HP':1, 'MaxHP':1, 'Cost':3., 'Evasion':0}\n",
      "Forces['Defender']['Units']['FT1']={'Type':'FT', 'Roll':9, 'Dice':1, 'HP':1, 'MaxHP':1, 'Cost':.5, 'Evasion':0}\n",
      "Forces['Defender']['Units']['FT2']={'Type':'FT', 'Roll':9, 'Dice':1, 'HP':1, 'MaxHP':1, 'Cost':.5, 'Evasion':0}\n",
      "Forces['Defender']['Units']['FT3']={'Type':'FT', 'Roll':9, 'Dice':1, 'HP':1, 'MaxHP':1, 'Cost':.5, 'Evasion':0}\n",
      "Forces['Attacker']['Bonus']=[] # For Boni/Mali in certain round, e.g. -1 in round 1 when fighting Xxcha\n",
      "Forces['Defender']['Bonus']=[]\n",
      "Forces['Attacker']['Special']=[] # For special abilities, so far only Yin's Kamikaze ability\n",
      "Forces['Defender']['Special']=[]"
     ],
     "language": "python",
     "metadata": {},
     "outputs": [],
     "prompt_number": 3
    },
    {
     "cell_type": "markdown",
     "metadata": {},
     "source": [
      "To calculate the probabilities, run Battle(Forces). The output is a bit complicated to read. Use EasyOutcomes() to translate it to probabilities of attacker/defender winning or mutual destruction."
     ]
    },
    {
     "cell_type": "code",
     "collapsed": false,
     "input": [
      "out = Battle(Forces)\n",
      "print 'p_Attacker  p_MD      p_Defender'\n",
      "print '{:.4f}      {:.4f}    {:.4f}'.format(*EasyOutcomes(out[0]))"
     ],
     "language": "python",
     "metadata": {},
     "outputs": [
      {
       "output_type": "stream",
       "stream": "stdout",
       "text": [
        "p_Attacker  p_MD      p_Defender\n",
        "0.6797      0.1183    0.2020\n"
       ]
      }
     ],
     "prompt_number": 7
    },
    {
     "cell_type": "markdown",
     "metadata": {},
     "source": [
      "n fighters, 1 carrier (Attacker) versus War Sun (Defender):"
     ]
    },
    {
     "cell_type": "code",
     "collapsed": false,
     "input": [
      "BattleDict = None # Will be used to save previous results\n",
      "print 'Fighters   %Fighters   %MD       %War Sun    Value to Fighter Side'\n",
      "for n in range(1,8):\n",
      "    out = Battle(PrepareForces({'CV':1,'FT':n},{'WS':1}),BattleDict=BattleDict)\n",
      "    BattleDict = out[2] # out[2] contains all intermediate results which can be reused for large battles\n",
      "    easy = EasyOutcomes(out[0])\n",
      "    value = out[3][1] - out[3][0] # out[3] is the expect cost for each side\n",
      "    args = (n, easy[0]*100, easy[1]*100, easy[2]*100, value)\n",
      "    print '   {}      {:6.2f}      {:6.2f}    {:6.2f}        {:.2f}'.format(*args)"
     ],
     "language": "python",
     "metadata": {},
     "outputs": [
      {
       "output_type": "stream",
       "stream": "stdout",
       "text": [
        "Fighters   %Fighters   %MD       %War Sun    Value to Fighter Side\n",
        "   1        0.43        4.31     95.26        -2.92"
       ]
      },
      {
       "output_type": "stream",
       "stream": "stdout",
       "text": [
        "\n",
        "   2        5.36        9.86     84.78        -2.01"
       ]
      },
      {
       "output_type": "stream",
       "stream": "stdout",
       "text": [
        "\n",
        "   3       20.20       11.83     67.97        0.01"
       ]
      },
      {
       "output_type": "stream",
       "stream": "stdout",
       "text": [
        "\n",
        "   4       34.96       14.71     50.32        2.24"
       ]
      },
      {
       "output_type": "stream",
       "stream": "stdout",
       "text": [
        "\n",
        "   5       55.28       11.10     33.63        4.64"
       ]
      },
      {
       "output_type": "stream",
       "stream": "stdout",
       "text": [
        "\n",
        "   6       73.54        6.29     20.17        6.73"
       ]
      },
      {
       "output_type": "stream",
       "stream": "stdout",
       "text": [
        "\n",
        "   7       84.31        4.56     11.13        8.18"
       ]
      },
      {
       "output_type": "stream",
       "stream": "stdout",
       "text": [
        "\n"
       ]
      }
     ],
     "prompt_number": 22
    },
    {
     "cell_type": "markdown",
     "metadata": {},
     "source": [
      "n Fighters, 1 Carrier (Attacker) versus Cruiser, War Sun (Defender):"
     ]
    },
    {
     "cell_type": "code",
     "collapsed": false,
     "input": [
      "BattleDict = None # Will be used to save previous results\n",
      "print 'Fighters   %Fighters   %MD       %War Sun    Value to Fighter Side'\n",
      "for n in range(1,8):\n",
      "    out = Battle(PrepareForces({'CV':1,'FT':n},{'WS':1,'CA':1}),BattleDict=BattleDict)\n",
      "    BattleDict = out[2] # out[2] contains all intermediate results which can be reused for large battles\n",
      "    easy = EasyOutcomes(out[0])\n",
      "    value = out[3][1] - out[3][0] # out[3] is the expect cost for each side\n",
      "    args = (n, easy[0]*100, easy[1]*100, easy[2]*100, value)\n",
      "    print '   {}      {:6.2f}      {:6.2f}    {:6.2f}        {:.2f}'.format(*args)"
     ],
     "language": "python",
     "metadata": {},
     "outputs": [
      {
       "output_type": "stream",
       "stream": "stdout",
       "text": [
        "Fighters   %Fighters   %MD       %War Sun    Value to Fighter Side\n",
        "   1        0.00        0.06     99.94        -3.40"
       ]
      },
      {
       "output_type": "stream",
       "stream": "stdout",
       "text": [
        "\n",
        "   2        0.32        1.38     98.30        -3.51"
       ]
      },
      {
       "output_type": "stream",
       "stream": "stdout",
       "text": [
        "\n",
        "   3        2.77        4.44     92.79        -2.98"
       ]
      },
      {
       "output_type": "stream",
       "stream": "stdout",
       "text": [
        "\n",
        "   4        9.32        8.31     82.37        -1.66"
       ]
      },
      {
       "output_type": "stream",
       "stream": "stdout",
       "text": [
        "\n",
        "   5       21.63       10.50     67.88        0.37"
       ]
      },
      {
       "output_type": "stream",
       "stream": "stdout",
       "text": [
        "\n",
        "   6       39.26        9.53     51.21        2.89"
       ]
      },
      {
       "output_type": "stream",
       "stream": "stdout",
       "text": [
        "\n",
        "   7       56.62        8.05     35.33        5.38"
       ]
      },
      {
       "output_type": "stream",
       "stream": "stdout",
       "text": [
        "\n"
       ]
      }
     ],
     "prompt_number": 23
    },
    {
     "cell_type": "code",
     "collapsed": false,
     "input": [
      "BattleDict = None # Will be used to save previous results\n",
      "print 'Fighters   %Fighters   %MD       %War Sun    Value to Fighter Side'\n",
      "for n in range(1,8):\n",
      "    Forces = PrepareForces({'CV':1,'FT':n},{'WS':1,'CA':1})\n",
      "    Forces['Defender']['DmgOrder'] = ['WS1','WS1','CA1']\n",
      "    out = Battle(Forces,BattleDict=BattleDict)\n",
      "    BattleDict = out[2] # out[2] contains all intermediate results which can be reused for large battles\n",
      "    easy = EasyOutcomes(out[0])\n",
      "    value = out[3][1] - out[3][0] # out[3] is the expect cost for each side\n",
      "    args = (n, easy[0]*100, easy[1]*100, easy[2]*100, value)\n",
      "    print '   {}      {:6.2f}      {:6.2f}    {:6.2f}        {:.2f}'.format(*args)"
     ],
     "language": "python",
     "metadata": {},
     "outputs": [
      {
       "output_type": "stream",
       "stream": "stdout",
       "text": [
        "Fighters   %Fighters   %MD       %War Sun    Value to Fighter Side\n",
        "   1        0.07        0.05     99.88        -2.96"
       ]
      },
      {
       "output_type": "stream",
       "stream": "stdout",
       "text": [
        "\n",
        "   2        1.34        1.08     97.57        -2.28"
       ]
      },
      {
       "output_type": "stream",
       "stream": "stdout",
       "text": [
        "\n",
        "   3        7.92        2.65     89.43        -0.64"
       ]
      },
      {
       "output_type": "stream",
       "stream": "stdout",
       "text": [
        "\n",
        "   4       21.63        3.47     74.90        1.67"
       ]
      },
      {
       "output_type": "stream",
       "stream": "stdout",
       "text": [
        "\n",
        "   5       38.74        3.83     57.44        4.14"
       ]
      },
      {
       "output_type": "stream",
       "stream": "stdout",
       "text": [
        "\n",
        "   6       56.81        3.22     39.97        6.52"
       ]
      },
      {
       "output_type": "stream",
       "stream": "stdout",
       "text": [
        "\n",
        "   7       72.84        2.10     25.06        8.49"
       ]
      },
      {
       "output_type": "stream",
       "stream": "stdout",
       "text": [
        "\n"
       ]
      }
     ],
     "prompt_number": 32
    },
    {
     "cell_type": "code",
     "collapsed": false,
     "input": [],
     "language": "python",
     "metadata": {},
     "outputs": []
    }
   ],
   "metadata": {}
  }
 ]
}