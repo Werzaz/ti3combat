{
 "metadata": {
  "name": ""
 },
 "nbformat": 3,
 "nbformat_minor": 0,
 "worksheets": [
  {
   "cells": [
    {
     "cell_type": "code",
     "collapsed": false,
     "input": [
      "from ti3combat import Battle, PrepareForces, EasyOutcomes\n",
      "from sabotage_run import p_outer, p_survives, p_survivors"
     ],
     "language": "python",
     "metadata": {},
     "outputs": [],
     "prompt_number": 2
    },
    {
     "cell_type": "markdown",
     "metadata": {},
     "source": [
      "n fighters are assigned. How likely will m get through the outer defenses?\n",
      "Use p_outer, e.g. for 2 fighters:"
     ]
    },
    {
     "cell_type": "code",
     "collapsed": false,
     "input": [
      "n = 2\n",
      "survive_outer = np.array([p_outer(n,m) for m in range(n+1)])\n",
      "print survive_outer\n",
      "print sum(survive_outer)"
     ],
     "language": "python",
     "metadata": {},
     "outputs": [
      {
       "output_type": "stream",
       "stream": "stdout",
       "text": [
        " [ 0.64  0.32  0.04]\n",
        "1.0\n"
       ]
      }
     ],
     "prompt_number": 4
    },
    {
     "cell_type": "markdown",
     "metadata": {},
     "source": [
      "Of those m fighters, how many will be left after inner defenses?"
     ]
    },
    {
     "cell_type": "code",
     "collapsed": false,
     "input": [
      "m = 2\n",
      "survive_inner = np.array([p_survives(m,k) for k in range(m+1)])\n",
      "print survive_inner\n",
      "print sum(survive_inner)"
     ],
     "language": "python",
     "metadata": {},
     "outputs": [
      {
       "output_type": "stream",
       "stream": "stdout",
       "text": [
        "[ 0.81  0.09  0.1 ]\n",
        "1.0\n"
       ]
      }
     ],
     "prompt_number": 5
    },
    {
     "cell_type": "code",
     "collapsed": false,
     "input": [
      "m = 1\n",
      "survive_inner = np.array([p_survives(m,k) for k in range(m+1)])\n",
      "print survive_inner\n",
      "print sum(survive_inner)"
     ],
     "language": "python",
     "metadata": {},
     "outputs": [
      {
       "output_type": "stream",
       "stream": "stdout",
       "text": [
        "[ 0.9  0.1]\n",
        "1.0\n"
       ]
      }
     ],
     "prompt_number": 6
    },
    {
     "cell_type": "markdown",
     "metadata": {},
     "source": [
      "Now, what does that mean for the whole sabotage run?"
     ]
    },
    {
     "cell_type": "code",
     "collapsed": false,
     "input": [
      "n = 2\n",
      "survive = np.array([p_survivors(n,k) for k in range(n+1)])\n",
      "print survive\n",
      "print sum(survive)"
     ],
     "language": "python",
     "metadata": {},
     "outputs": [
      {
       "output_type": "stream",
       "stream": "stdout",
       "text": [
        "[ 0.9604  0.0356  0.004 ]\n",
        "1.0\n"
       ]
      }
     ],
     "prompt_number": 7
    },
    {
     "cell_type": "code",
     "collapsed": false,
     "input": [
      "l = 6\n",
      "print ' \\ k     0       1       2       3       4       5       6' \n",
      "print 'n \\ '\n",
      "for n in range(l+1):\n",
      "    #survive = np.zeros(l+1)\n",
      "    survive = np.array([p_survivors(n,k) for k in range(n+1)]) * 100\n",
      "    print n,\n",
      "    for p in survive:\n",
      "        print '  {:.3f}'.format(p),\n",
      "    print #'{}   {:.3f}   {:.3f}   {:.3f}   {:.3f}   {:.3f}   {:.3f}   {:.3f}'.format(n,*tuple(survive))"
     ],
     "language": "python",
     "metadata": {},
     "outputs": [
      {
       "output_type": "stream",
       "stream": "stdout",
       "text": [
        " \\ k     0       1       2       3       4       5       6\n",
        "n \\ \n",
        "0   100.000\n",
        "1   98.000   2.000\n",
        "2   96.040   3.560   0.400\n",
        "3   94.119   4.769   1.032   0.080\n",
        "4   92.237   5.697   1.779   0.270   0.016\n",
        "5   90.392   6.403   2.563   0.572   0.067   0.003\n",
        "6   88.584   6.930   3.331   0.970   0.168   0.016   0.001\n"
       ]
      }
     ],
     "prompt_number": 8
    },
    {
     "cell_type": "markdown",
     "metadata": {},
     "source": [
      "Let's assume 1 carrier with 6 fighters is attacked by a warsun with 4 fighters and 2 cruisers. First calculate probabilities for this battle for various numbers of defending fighters. (Fighters may have been destroyed during Sabotage Runs.)"
     ]
    },
    {
     "cell_type": "code",
     "collapsed": false,
     "input": [
      "Ships_Att = {'CA':2,'FT':4,'WS':1}\n",
      "outcomes = []\n",
      "BattleDict = None\n",
      "for k in range(7):\n",
      "    out = Battle(PrepareForces(Ships_Att,{'CV':1,'FT':k}),BattleDict=BattleDict)\n",
      "    BattleDict = out[2]\n",
      "    outcomes += [(out[0],out[3],EasyOutcomes(out[0]))]"
     ],
     "language": "python",
     "metadata": {},
     "outputs": [],
     "prompt_number": 9
    },
    {
     "cell_type": "code",
     "collapsed": false,
     "input": [
      "print 'N_FT  %Attacker  %Tie       %Defender'\n",
      "for k in range(7):\n",
      "    print ' {}    {:.2e}   {:.2e}   {:.2e}'.format(k,outcomes[k][2][0]*100,outcomes[k][2][1]*100,outcomes[k][2][2]*100)"
     ],
     "language": "python",
     "metadata": {},
     "outputs": [
      {
       "output_type": "stream",
       "stream": "stdout",
       "text": [
        "N_FT  %Attacker  %Tie       %Defender\n",
        " 0    1.00e+02   3.12e-23   2.51e-25\n",
        " 1    1.00e+02   1.36e-12   7.61e-14\n",
        " 2    1.00e+02   1.70e-08   1.85e-09\n",
        " 3    1.00e+02   5.12e-06   7.95e-07\n",
        " 4    1.00e+02   2.62e-04   7.00e-05\n",
        " 5    1.00e+02   4.53e-03   1.91e-03\n",
        " 6    9.99e+01   3.62e-02   2.33e-02\n"
       ]
      }
     ],
     "prompt_number": 10
    },
    {
     "cell_type": "code",
     "collapsed": false,
     "input": [
      "Ships_Att = {'CA':2,'FT':4}\n",
      "outcomes_noWS = []\n",
      "BattleDict = None\n",
      "for k in range(7):\n",
      "    out = Battle(PrepareForces(Ships_Att,{'CV':1,'FT':k}),BattleDict=BattleDict)\n",
      "    BattleDict = out[2]\n",
      "    outcomes_noWS += [(out[0],out[3],EasyOutcomes(out[0]))]"
     ],
     "language": "python",
     "metadata": {},
     "outputs": [],
     "prompt_number": 11
    },
    {
     "cell_type": "code",
     "collapsed": false,
     "input": [
      "print 'N_FT  %Attacker  %Tie       %Defender'\n",
      "for k in range(7):\n",
      "    print ' {}    {:.2e}   {:.2e}   {:.2e}'.format(k,outcomes_noWS[k][2][0]*100,outcomes_noWS[k][2][1]*100,outcomes_noWS[k][2][2]*100)"
     ],
     "language": "python",
     "metadata": {},
     "outputs": [
      {
       "output_type": "stream",
       "stream": "stdout",
       "text": [
        "N_FT  %Attacker  %Tie       %Defender\n",
        " 0    1.00e+02   9.51e-06   1.43e-05\n",
        " 1    1.00e+02   3.19e-03   8.88e-03\n",
        " 2    9.97e+01   5.61e-02   2.45e-01\n",
        " 3    9.77e+01   3.04e-01   2.03e+00\n",
        " 4    9.08e+01   8.11e-01   8.38e+00\n",
        " 5    7.69e+01   1.33e+00   2.18e+01\n",
        " 6    5.75e+01   1.53e+00   4.10e+01\n"
       ]
      }
     ],
     "prompt_number": 12
    },
    {
     "cell_type": "code",
     "collapsed": false,
     "input": [
      "n = 6\n",
      "print 'Sabotage  %Winning  %Survive    Value'\n",
      "for k in range(7):\n",
      "    combined = [0,0,0,0,0]\n",
      "    # If the Sabotage Run is unsuccessful\n",
      "    combined[0] += (outcomes[n-k][2][2] + outcomes[n-k][2][1]) * p_survivors(k,0) * 100\n",
      "    combined[1] += outcomes[n-k][2][2] * p_survivors(k,0) * 100\n",
      "    combined[2] += (outcomes[n-k][1][0] - outcomes[n-k][1][1] - 0.5*k) * p_survivors(k,0)\n",
      "    combined[3] += (outcomes[n-k][1][0]) * p_survivors(k,0)\n",
      "    combined[4] += (outcomes[n-k][1][1] + 0.5*k) * p_survivors(k,0)\n",
      "    # If it is successful\n",
      "    for l in range(1,k+1):\n",
      "        combined[0] += (outcomes_noWS[n-k+l][2][2] + outcomes_noWS[n-k+l][2][1]) * p_survivors(k,l) * 100\n",
      "        combined[1] += outcomes_noWS[n-k+l][2][2] * p_survivors(k,l) * 100  \n",
      "        combined[2] += (outcomes_noWS[n-k+l][1][0] - outcomes_noWS[n-k+l][1][1] - 0.5*(k-l)) * p_survivors(k,l)\n",
      "        combined[3] += (outcomes_noWS[n-k+l][1][0]) * p_survivors(k,l)\n",
      "        combined[4] += (outcomes_noWS[n-k+l][1][1] + 0.5*(k-l)) * p_survivors(k,l)\n",
      "    print '    {}        {:.3f}     {:.3f}   {:.3f}'.format(k,*combined)"
     ],
     "language": "python",
     "metadata": {},
     "outputs": [
      {
       "output_type": "stream",
       "stream": "stdout",
       "text": [
        "Sabotage  %Winning  %Survive    Value\n",
        "    0        0.059     0.023   -5.382\n",
        "    1        0.856     0.821   -5.498\n",
        "    2        0.993     0.940   -5.622\n",
        "    3        0.711     0.657   -5.743\n",
        "    4        0.366     0.330   -5.840\n",
        "    5        0.148     0.132   -5.907"
       ]
      },
      {
       "output_type": "stream",
       "stream": "stdout",
       "text": [
        "\n",
        "    6        0.053     0.046   -5.948\n"
       ]
      }
     ],
     "prompt_number": 13
    },
    {
     "cell_type": "code",
     "collapsed": false,
     "input": [],
     "language": "python",
     "metadata": {},
     "outputs": []
    }
   ],
   "metadata": {}
  }
 ]
}